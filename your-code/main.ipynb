{
 "cells": [
  {
   "cell_type": "markdown",
   "metadata": {},
   "source": [
    "# Lab | Basic Probability - Challenges\n",
    "\n",
    "## Challenge 1\n",
    "\n",
    "A and B are events of a probability space with $(\\omega, \\sigma, P)$ such that $P(A) = 0.3$, $P(B) = 0.6$ and $P(A \\cap B) = 0.1$\n",
    "\n",
    "Which of the following statements are false?\n",
    "* $P(A \\cup B) = 0.6$\n",
    "* $P(A \\cap B^{C}) = 0.2$\n",
    "* $P(A \\cap (B \\cup B^{C})) = 0.4$\n",
    "* $P(A^{C} \\cap B^{C}) = 0.3$\n",
    "* $P((A \\cap B)^{C}) = 0.9$"
   ]
  },
  {
   "cell_type": "code",
   "execution_count": 1,
   "metadata": {},
   "outputs": [
    {
     "name": "stdout",
     "output_type": "stream",
     "text": [
      "1. P(A ∪ B) = 0.8 -> False\n",
      "2. P(A ∩ B^C) = 0.2 -> False\n",
      "3. P(A ∩ (B ∪ B^C)) = 0.3 -> False\n",
      "4. P(A^C ∩ B^C) = 0.2 -> False\n",
      "5. P((A ∩ B)^C) = 0.9 -> True\n"
     ]
    }
   ],
   "source": [
    "# Your code here\n",
    "# Given probabilities\n",
    "P_A = 0.3\n",
    "P_B = 0.6\n",
    "P_A_and_B = 0.1\n",
    "\n",
    "# Statement 1: P(A ∪ B)\n",
    "P_A_union_B = P_A + P_B - P_A_and_B\n",
    "print(f\"1. P(A ∪ B) = {P_A_union_B:.1f} -> {'True' if P_A_union_B == 0.6 else 'False'}\")\n",
    "\n",
    "# Statement 2: P(A ∩ B^C)\n",
    "P_A_and_notB = P_A - P_A_and_B\n",
    "print(f\"2. P(A ∩ B^C) = {P_A_and_notB:.1f} -> {'True' if P_A_and_notB == 0.2 else 'False'}\")\n",
    "\n",
    "# Statement 3: P(A ∩ (B ∪ B^C)) = P(A ∩ Ω) = P(A)\n",
    "P_A_and_omega = P_A\n",
    "print(f\"3. P(A ∩ (B ∪ B^C)) = {P_A_and_omega:.1f} -> {'True' if P_A_and_omega == 0.4 else 'False'}\")\n",
    "\n",
    "# Statement 4: P(A^C ∩ B^C) = P((A ∪ B)^C)\n",
    "P_notA_and_notB = 1 - P_A_union_B\n",
    "print(f\"4. P(A^C ∩ B^C) = {P_notA_and_notB:.1f} -> {'True' if P_notA_and_notB == 0.3 else 'False'}\")\n",
    "\n",
    "# Statement 5: P((A ∩ B)^C)\n",
    "P_not_A_and_B = 1 - P_A_and_B\n",
    "print(f\"5. P((A ∩ B)^C) = {P_not_A_and_B:.1f} -> {'True' if P_not_A_and_B == 0.9 else 'False'}\")"
   ]
  },
  {
   "cell_type": "markdown",
   "metadata": {},
   "source": [
    "## Challenge 2\n",
    "There is a box with 10 white balls, 12 red balls and 8 black balls. Calculate the probability of:\n",
    "* Taking a white ball out.\n",
    "* Taking a white ball out after taking a black ball out.\n",
    "* Taking a red ball out after taking a black and a red ball out.\n",
    "* Taking a red ball out after taking a black and a red ball out with reposition.\n",
    "\n",
    "**Hint**: Reposition means putting back the ball into the box after taking it out."
   ]
  },
  {
   "cell_type": "code",
   "execution_count": 2,
   "metadata": {},
   "outputs": [
    {
     "name": "stdout",
     "output_type": "stream",
     "text": [
      "1. Probability of taking a white ball out: 0.3333\n",
      "2. Probability of white after black (without replacement): 0.3448\n",
      "3. Probability of red after black and red (without replacement): 0.3929\n",
      "4. Probability of red after black and red (with replacement): 0.4000\n"
     ]
    }
   ],
   "source": [
    "# Your code here\n",
    "# Initial counts\n",
    "white = 10\n",
    "red = 12\n",
    "black = 8\n",
    "total = white + red + black\n",
    "\n",
    "# 1. Probability of white on first draw\n",
    "p1 = white / total\n",
    "\n",
    "# 2. After taking a black ball out (no replacement)\n",
    "# New total: total - 1 = 29\n",
    "# White remains 10\n",
    "p2 = white / (total - 1)\n",
    "\n",
    "# 3. After taking a black and then a red (without replacement)\n",
    "# After black: total becomes 29, red remains 12\n",
    "# Then take red: total becomes 28, red becomes 11\n",
    "p3 = (red - 1) / (total - 2)\n",
    "\n",
    "# 4. With reposition: after each draw, ball is replaced, so composition remains same\n",
    "p4 = red / total\n",
    "\n",
    "print(f\"1. Probability of taking a white ball out: {p1:.4f}\")\n",
    "print(f\"2. Probability of white after black (without replacement): {p2:.4f}\")\n",
    "print(f\"3. Probability of red after black and red (without replacement): {p3:.4f}\")\n",
    "print(f\"4. Probability of red after black and red (with replacement): {p4:.4f}\")"
   ]
  },
  {
   "cell_type": "markdown",
   "metadata": {},
   "source": [
    "## Challenge 3\n",
    "\n",
    "You are planning to go on a picnic today but the morning is cloudy. You hate rain so you don't know whether to go out or stay home! To help you make a decision, you gather the following data about rainy days:\n",
    "\n",
    "* 50% of all rainy days start off cloudy!\n",
    "* Cloudy mornings are common. About 40% of days start cloudy. \n",
    "* This month is usually dry so only 3 of 30 days (10%) tend to be rainy. \n",
    "\n",
    "What is the chance of rain during the day?"
   ]
  },
  {
   "cell_type": "code",
   "execution_count": 3,
   "metadata": {},
   "outputs": [
    {
     "name": "stdout",
     "output_type": "stream",
     "text": [
      "Probability of rain given a cloudy morning: 0.1250 (or 12.5%)\n"
     ]
    }
   ],
   "source": [
    "# Your code here\n",
    "# Given probabilities\n",
    "P_C_given_R = 0.5  # P(Cloudy | Rain)\n",
    "P_C = 0.4           # P(Cloudy)\n",
    "P_R = 0.1           # P(Rain)\n",
    "\n",
    "# Calculate P(Rain | Cloudy) using Bayes' Theorem\n",
    "P_R_given_C = (P_C_given_R * P_R) / P_C\n",
    "\n",
    "print(f\"Probability of rain given a cloudy morning: {P_R_given_C:.4f} (or {P_R_given_C*100:.1f}%)\")"
   ]
  },
  {
   "cell_type": "markdown",
   "metadata": {},
   "source": [
    "## Challenge 4\n",
    "\n",
    "\n",
    " * If someone flies to China, the probability of getting Covid is 1%  \n",
    " * If someone flies to Italy, the probability of getting Covid is 20%  \n",
    "\n",
    "I roll 1 dice with numbers 1, 2, 3, 4, 5, 6:  \n",
    " * If 1: I fly to Italy\n",
    " * If not 1: I fly to China\n",
    "\n",
    "During my trip, I got Covid. What is the probability that I flew to China?"
   ]
  },
  {
   "cell_type": "code",
   "execution_count": 4,
   "metadata": {},
   "outputs": [
    {
     "name": "stdout",
     "output_type": "stream",
     "text": [
      "Probability that you flew to China given that you got Covid: 0.2000 (or 20.0%)\n"
     ]
    }
   ],
   "source": [
    "# Your code here\n",
    "# Given probabilities\n",
    "P_D_given_C = 0.01   # P(Covid | China)\n",
    "P_D_given_I = 0.2     # P(Covid | Italy)\n",
    "\n",
    "# Probabilities from the rolla da dice!\n",
    "P_I = 1/6\n",
    "P_C = 5/6\n",
    "\n",
    "# Total probability of getting Covid: P(D)\n",
    "P_D = (P_D_given_C * P_C) + (P_D_given_I * P_I)\n",
    "\n",
    "# Probability that you flew to China given that you got Covid: P(C|D)\n",
    "P_C_given_D = (P_D_given_C * P_C) / P_D\n",
    "\n",
    "print(f\"Probability that you flew to China given that you got Covid: {P_C_given_D:.4f} (or {P_C_given_D*100:.1f}%)\")"
   ]
  },
  {
   "cell_type": "markdown",
   "metadata": {},
   "source": [
    "## BONUS\n",
    "\n",
    "You roll 2 dice. What is the probability that the sum of the numbers is 7? And 8? And 9? Then simulate 10000 times and draw a countplot."
   ]
  },
  {
   "cell_type": "markdown",
   "metadata": {},
   "source": [
    "your explanation here"
   ]
  },
  {
   "cell_type": "code",
   "execution_count": 5,
   "metadata": {},
   "outputs": [
    {
     "name": "stdout",
     "output_type": "stream",
     "text": [
      "Theoretical probability of sum=7: 0.1667\n",
      "Theoretical probability of sum=8: 0.1389\n",
      "Theoretical probability of sum=9: 0.1111\n",
      "\n",
      "Simulated probability of sum=7: 0.1616\n",
      "Simulated probability of sum=8: 0.1414\n",
      "Simulated probability of sum=9: 0.1105\n"
     ]
    },
    {
     "data": {
      "image/png": "[encoded data removed]",
      "text/plain": [
       "<Figure size 1000x600 with 1 Axes>"
      ]
     },
     "metadata": {},
     "output_type": "display_data"
    }
   ],
   "source": [
    "# Your code here\n",
    "import numpy as np\n",
    "import matplotlib.pyplot as plt\n",
    "import seaborn as sns\n",
    "\n",
    "# Theoretical probabilities\n",
    "total_outcomes = 36\n",
    "p_7 = 6 / total_outcomes\n",
    "p_8 = 5 / total_outcomes\n",
    "p_9 = 4 / total_outcomes\n",
    "\n",
    "print(f\"Theoretical probability of sum=7: {p_7:.4f}\")\n",
    "print(f\"Theoretical probability of sum=8: {p_8:.4f}\")\n",
    "print(f\"Theoretical probability of sum=9: {p_9:.4f}\")\n",
    "\n",
    "# Simulation\n",
    "np.random.seed(42)  # For reproducibility\n",
    "n_simulations = 10000\n",
    "\n",
    "# Roll two dice: each simulation rolls two dice (each die from 1 to 6)\n",
    "dice1 = np.random.randint(1, 7, n_simulations)\n",
    "dice2 = np.random.randint(1, 7, n_simulations)\n",
    "sums = dice1 + dice2\n",
    "\n",
    "# Count the frequency of each sum\n",
    "unique, counts = np.unique(sums, return_counts=True)\n",
    "freq = dict(zip(unique, counts))\n",
    "\n",
    "# Print simulated probabilities for 7,8,9\n",
    "print(f\"\\nSimulated probability of sum=7: {freq[7]/n_simulations:.4f}\")\n",
    "print(f\"Simulated probability of sum=8: {freq[8]/n_simulations:.4f}\")\n",
    "print(f\"Simulated probability of sum=9: {freq[9]/n_simulations:.4f}\")\n",
    "\n",
    "# Draw countplot\n",
    "plt.figure(figsize=(10,6))\n",
    "sns.countplot(x=sums)\n",
    "plt.title(\"Countplot of Dice Sums (10,000 simulations)\")\n",
    "plt.xlabel(\"Sum of two dice\")\n",
    "plt.ylabel(\"Count\")\n",
    "plt.show()"
   ]
  },
  {
   "cell_type": "markdown",
   "metadata": {},
   "source": [
    "## Bonus \n",
    "\n",
    "One thousand people were asked through a telephone survey whether they thought more street lighting is needed at night or not.\n",
    "\n",
    "Out of the 480 men that answered the survey, 324 said yes and 156 said no. On the other hand, out of the 520 women that answered, 351 said yes and 169 said no. \n",
    "\n",
    "We wonder if men and women have a different opinions about the street lighting matter. Is gender relevant or irrelevant to the question?\n",
    "\n",
    "Consider the following events:\n",
    "- The answer is yes, so the person that answered thinks that more street lighting is needed.\n",
    "- The person who answered is a man.\n",
    "\n",
    "We want to know if these events are independent, that is, if the fact of wanting more light depends on whether one is male or female. Are these events independent or not?\n",
    "\n",
    "**Hint**: To clearly compare the answers by gender, it is best to place the data in a table."
   ]
  },
  {
   "cell_type": "markdown",
   "metadata": {},
   "source": [
    "| Gender  | Yes  | No |  |\n",
    "|---|---|---|---|\n",
    "| Men  | 0.324  | 0.156 | 0.48 |\n",
    "| Women  | 0.351  | 0.169 | 0.52 |\n",
    "|   | 0.675  | 0.325 |"
   ]
  },
  {
   "cell_type": "code",
   "execution_count": 6,
   "metadata": {},
   "outputs": [
    {
     "name": "stdout",
     "output_type": "stream",
     "text": [
      "P(Yes) = 0.675\n",
      "P(Man) = 0.480\n",
      "P(Yes and Man) = 0.324\n",
      "P(Yes) * P(Man) = 0.324\n",
      "Are they independent? True\n",
      "\n",
      "P(Yes | Man) = 0.675\n",
      "P(Yes | Woman) = 0.675\n",
      "Are conditional probabilities equal? True\n",
      "\n",
      "Chi-square test: p-value = 1.0000\n",
      "The variables are independent (fail to reject independence).\n"
     ]
    }
   ],
   "source": [
    "# Your code here. OUCH!\n",
    "import numpy as np\n",
    "from scipy.stats import chi2_contingency\n",
    "\n",
    "# Create the contingency table\n",
    "table = np.array([[324, 156], [351, 169]])\n",
    "\n",
    "# Calculate probabilities\n",
    "total = 1000\n",
    "P_yes = 675 / total\n",
    "P_man = 480 / total\n",
    "P_yes_and_man = 324 / total\n",
    "\n",
    "print(f\"P(Yes) = {P_yes:.3f}\")\n",
    "print(f\"P(Man) = {P_man:.3f}\")\n",
    "print(f\"P(Yes and Man) = {P_yes_and_man:.3f}\")\n",
    "print(f\"P(Yes) * P(Man) = {P_yes * P_man:.3f}\")\n",
    "print(f\"Are they independent? {np.isclose(P_yes_and_man, P_yes * P_man)}\")\n",
    "\n",
    "# Conditional probabilities - OUCH!\n",
    "P_yes_given_man = 324 / 480\n",
    "P_yes_given_woman = 351 / 520\n",
    "print(f\"\\nP(Yes | Man) = {P_yes_given_man:.3f}\")\n",
    "print(f\"P(Yes | Woman) = {P_yes_given_woman:.3f}\")\n",
    "print(f\"Are conditional probabilities equal? {np.isclose(P_yes_given_man, P_yes_given_woman)}\")\n",
    "\n",
    "# Chi-square test for independence\n",
    "chi2, p_value, dof, expected = chi2_contingency(table)\n",
    "print(f\"\\nChi-square test: p-value = {p_value:.4f}\")\n",
    "if p_value < 0.05:\n",
    "    print(\"The variables are dependent (reject independence).\")\n",
    "else:\n",
    "    print(\"The variables are independent (fail to reject independence).\")"
   ]
  }
 ],
 "metadata": {
  "kernelspec": {
   "display_name": "Python 3",
   "language": "python",
   "name": "python3"
  },
  "language_info": {
   "codemirror_mode": {
    "name": "ipython",
    "version": 3
   },
   "file_extension": ".py",
   "mimetype": "text/x-python",
   "name": "python",
   "nbconvert_exporter": "python",
   "pygments_lexer": "ipython3",
   "version": "3.13.3"
  }
 },
 "nbformat": 4,
 "nbformat_minor": 2
}
